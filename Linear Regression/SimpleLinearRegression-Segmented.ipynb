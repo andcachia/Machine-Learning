{
 "cells": [
  {
   "cell_type": "markdown",
   "metadata": {},
   "source": [
    "# Simple Linear Regression Example - Segmentation"
   ]
  },
  {
   "cell_type": "markdown",
   "metadata": {},
   "source": [
    "###### Andrew Cachia, Nov 2018"
   ]
  },
  {
   "cell_type": "markdown",
   "metadata": {},
   "source": [
    "#### Imports"
   ]
  },
  {
   "cell_type": "code",
   "execution_count": 2,
   "metadata": {},
   "outputs": [],
   "source": [
    "from IPython.display import Image\n",
    "import matplotlib.pyplot as plt\n",
    "import pandas as pd\n",
    "import numpy as np"
   ]
  },
  {
   "cell_type": "markdown",
   "metadata": {},
   "source": [
    "#### Data"
   ]
  },
  {
   "cell_type": "code",
   "execution_count": 3,
   "metadata": {
    "scrolled": true
   },
   "outputs": [
    {
     "data": {
      "text/html": [
       "<div>\n",
       "<style scoped>\n",
       "    .dataframe tbody tr th:only-of-type {\n",
       "        vertical-align: middle;\n",
       "    }\n",
       "\n",
       "    .dataframe tbody tr th {\n",
       "        vertical-align: top;\n",
       "    }\n",
       "\n",
       "    .dataframe thead th {\n",
       "        text-align: right;\n",
       "    }\n",
       "</style>\n",
       "<table border=\"1\" class=\"dataframe\">\n",
       "  <thead>\n",
       "    <tr style=\"text-align: right;\">\n",
       "      <th></th>\n",
       "      <th>Class</th>\n",
       "      <th>Kilometres</th>\n",
       "      <th>Market Value</th>\n",
       "      <th>Year of Manufacture</th>\n",
       "      <th>Model</th>\n",
       "      <th>Extra</th>\n",
       "    </tr>\n",
       "  </thead>\n",
       "  <tbody>\n",
       "    <tr>\n",
       "      <th>0</th>\n",
       "      <td>201819</td>\n",
       "      <td>47777</td>\n",
       "      <td>6700.0</td>\n",
       "      <td>2011</td>\n",
       "      <td>VW Polo</td>\n",
       "      <td>1.2, Petrol, 5DR</td>\n",
       "    </tr>\n",
       "    <tr>\n",
       "      <th>1</th>\n",
       "      <td>201819</td>\n",
       "      <td>234676</td>\n",
       "      <td>700.0</td>\n",
       "      <td>1998</td>\n",
       "      <td>Toyota Corolla</td>\n",
       "      <td>1.48, Petrol, 5DR</td>\n",
       "    </tr>\n",
       "    <tr>\n",
       "      <th>2</th>\n",
       "      <td>201819</td>\n",
       "      <td>74717</td>\n",
       "      <td>1000.0</td>\n",
       "      <td>1999</td>\n",
       "      <td>Fiat Punto</td>\n",
       "      <td>1.3, Petrol, 5DR</td>\n",
       "    </tr>\n",
       "    <tr>\n",
       "      <th>3</th>\n",
       "      <td>201819</td>\n",
       "      <td>49700</td>\n",
       "      <td>9300.0</td>\n",
       "      <td>2010</td>\n",
       "      <td>Golf mk 6</td>\n",
       "      <td>2.0, Diesel, 5DR</td>\n",
       "    </tr>\n",
       "    <tr>\n",
       "      <th>4</th>\n",
       "      <td>201819</td>\n",
       "      <td>116800</td>\n",
       "      <td>16500.0</td>\n",
       "      <td>2013</td>\n",
       "      <td>BMW 320D</td>\n",
       "      <td>2.0, Diesel, 5DR</td>\n",
       "    </tr>\n",
       "    <tr>\n",
       "      <th>5</th>\n",
       "      <td>201819</td>\n",
       "      <td>123588</td>\n",
       "      <td>6000.0</td>\n",
       "      <td>2009</td>\n",
       "      <td>Fiat Grande Punto</td>\n",
       "      <td>1.2, LPG, 5DR</td>\n",
       "    </tr>\n",
       "    <tr>\n",
       "      <th>6</th>\n",
       "      <td>201819</td>\n",
       "      <td>256000</td>\n",
       "      <td>700.0</td>\n",
       "      <td>1997</td>\n",
       "      <td>Toyota Starlet</td>\n",
       "      <td>1.5, Diesel, 5DR</td>\n",
       "    </tr>\n",
       "    <tr>\n",
       "      <th>7</th>\n",
       "      <td>201819</td>\n",
       "      <td>85690</td>\n",
       "      <td>4400.0</td>\n",
       "      <td>2002</td>\n",
       "      <td>BMW 3 Series E46</td>\n",
       "      <td>1.9 Petrol 5DR</td>\n",
       "    </tr>\n",
       "    <tr>\n",
       "      <th>8</th>\n",
       "      <td>201819</td>\n",
       "      <td>165000</td>\n",
       "      <td>1400.0</td>\n",
       "      <td>2002</td>\n",
       "      <td>Citroen Picasso</td>\n",
       "      <td>1.6, Petrol, 5DR</td>\n",
       "    </tr>\n",
       "    <tr>\n",
       "      <th>9</th>\n",
       "      <td>201819</td>\n",
       "      <td>122310</td>\n",
       "      <td>4500.0</td>\n",
       "      <td>2005</td>\n",
       "      <td>MG ZR</td>\n",
       "      <td>1.4, Petrol, 3DR</td>\n",
       "    </tr>\n",
       "    <tr>\n",
       "      <th>10</th>\n",
       "      <td>201819</td>\n",
       "      <td>22631</td>\n",
       "      <td>8505.7</td>\n",
       "      <td>2013</td>\n",
       "      <td>Peugeot 108</td>\n",
       "      <td>1.2, Petrol, 5DR</td>\n",
       "    </tr>\n",
       "    <tr>\n",
       "      <th>11</th>\n",
       "      <td>201819</td>\n",
       "      <td>72000</td>\n",
       "      <td>14500.0</td>\n",
       "      <td>2013</td>\n",
       "      <td>Toyota Avensis</td>\n",
       "      <td>2.2, Diesel, 5DR</td>\n",
       "    </tr>\n",
       "    <tr>\n",
       "      <th>12</th>\n",
       "      <td>201819</td>\n",
       "      <td>147200</td>\n",
       "      <td>5500.0</td>\n",
       "      <td>2015</td>\n",
       "      <td>VW Golf Mk 5 GT</td>\n",
       "      <td>2.0, Diesel, 5DR</td>\n",
       "    </tr>\n",
       "    <tr>\n",
       "      <th>13</th>\n",
       "      <td>201819</td>\n",
       "      <td>45000</td>\n",
       "      <td>12150.0</td>\n",
       "      <td>2015</td>\n",
       "      <td>Mazda 2</td>\n",
       "      <td>1.5, Petrol, 5DR</td>\n",
       "    </tr>\n",
       "    <tr>\n",
       "      <th>14</th>\n",
       "      <td>201819</td>\n",
       "      <td>230000</td>\n",
       "      <td>700.0</td>\n",
       "      <td>1998</td>\n",
       "      <td>Toyota Starlet</td>\n",
       "      <td>1.5, Diesel, 3DR</td>\n",
       "    </tr>\n",
       "    <tr>\n",
       "      <th>15</th>\n",
       "      <td>201819</td>\n",
       "      <td>41000</td>\n",
       "      <td>4000.0</td>\n",
       "      <td>2009</td>\n",
       "      <td>Suzuki Alto</td>\n",
       "      <td>1, Petrol, 5DR</td>\n",
       "    </tr>\n",
       "    <tr>\n",
       "      <th>16</th>\n",
       "      <td>201819</td>\n",
       "      <td>39000</td>\n",
       "      <td>11000.0</td>\n",
       "      <td>2012</td>\n",
       "      <td>Seat Ibiza</td>\n",
       "      <td>1.2, Petrol, 5DR</td>\n",
       "    </tr>\n",
       "    <tr>\n",
       "      <th>17</th>\n",
       "      <td>201819</td>\n",
       "      <td>40000</td>\n",
       "      <td>9000.0</td>\n",
       "      <td>2016</td>\n",
       "      <td>Suzuki Swift</td>\n",
       "      <td>1.2, Petrol, 5DR</td>\n",
       "    </tr>\n",
       "    <tr>\n",
       "      <th>18</th>\n",
       "      <td>201819</td>\n",
       "      <td>70000</td>\n",
       "      <td>4900.0</td>\n",
       "      <td>2011</td>\n",
       "      <td>Kia Picanto</td>\n",
       "      <td>1.0, Petrol, 5DR</td>\n",
       "    </tr>\n",
       "    <tr>\n",
       "      <th>19</th>\n",
       "      <td>201819</td>\n",
       "      <td>62000</td>\n",
       "      <td>7200.0</td>\n",
       "      <td>2010</td>\n",
       "      <td>Honda Fit</td>\n",
       "      <td>1.6, Flex, Automatic</td>\n",
       "    </tr>\n",
       "    <tr>\n",
       "      <th>20</th>\n",
       "      <td>201819</td>\n",
       "      <td>87000</td>\n",
       "      <td>13000.0</td>\n",
       "      <td>2013</td>\n",
       "      <td>VW Golf MK7</td>\n",
       "      <td>1.6, Diesel, 5DR</td>\n",
       "    </tr>\n",
       "    <tr>\n",
       "      <th>21</th>\n",
       "      <td>201819</td>\n",
       "      <td>38000</td>\n",
       "      <td>28000.0</td>\n",
       "      <td>2012</td>\n",
       "      <td>Audi Q3</td>\n",
       "      <td>2.0, Diesel, 5DR</td>\n",
       "    </tr>\n",
       "    <tr>\n",
       "      <th>22</th>\n",
       "      <td>201819</td>\n",
       "      <td>10521</td>\n",
       "      <td>13800.0</td>\n",
       "      <td>2017</td>\n",
       "      <td>Mazda 2</td>\n",
       "      <td>1.5, Petrol, 5DR</td>\n",
       "    </tr>\n",
       "    <tr>\n",
       "      <th>23</th>\n",
       "      <td>201819</td>\n",
       "      <td>9430</td>\n",
       "      <td>10500.0</td>\n",
       "      <td>2016</td>\n",
       "      <td>Hyundai i10</td>\n",
       "      <td>1.0 Petrol, 5DR</td>\n",
       "    </tr>\n",
       "    <tr>\n",
       "      <th>24</th>\n",
       "      <td>201819</td>\n",
       "      <td>120000</td>\n",
       "      <td>8000.0</td>\n",
       "      <td>2006</td>\n",
       "      <td>Honda Accord</td>\n",
       "      <td>2.2, Diesel, dDR</td>\n",
       "    </tr>\n",
       "  </tbody>\n",
       "</table>\n",
       "</div>"
      ],
      "text/plain": [
       "     Class  Kilometres  Market Value  Year of Manufacture              Model  \\\n",
       "0   201819       47777        6700.0                 2011            VW Polo   \n",
       "1   201819      234676         700.0                 1998     Toyota Corolla   \n",
       "2   201819       74717        1000.0                 1999         Fiat Punto   \n",
       "3   201819       49700        9300.0                 2010          Golf mk 6   \n",
       "4   201819      116800       16500.0                 2013           BMW 320D   \n",
       "5   201819      123588        6000.0                 2009  Fiat Grande Punto   \n",
       "6   201819      256000         700.0                 1997     Toyota Starlet   \n",
       "7   201819       85690        4400.0                 2002   BMW 3 Series E46   \n",
       "8   201819      165000        1400.0                 2002    Citroen Picasso   \n",
       "9   201819      122310        4500.0                 2005              MG ZR   \n",
       "10  201819       22631        8505.7                 2013        Peugeot 108   \n",
       "11  201819       72000       14500.0                 2013     Toyota Avensis   \n",
       "12  201819      147200        5500.0                 2015    VW Golf Mk 5 GT   \n",
       "13  201819       45000       12150.0                 2015            Mazda 2   \n",
       "14  201819      230000         700.0                 1998     Toyota Starlet   \n",
       "15  201819       41000        4000.0                 2009        Suzuki Alto   \n",
       "16  201819       39000       11000.0                 2012         Seat Ibiza   \n",
       "17  201819       40000        9000.0                 2016      Suzuki Swift    \n",
       "18  201819       70000        4900.0                 2011        Kia Picanto   \n",
       "19  201819       62000        7200.0                 2010          Honda Fit   \n",
       "20  201819       87000       13000.0                 2013        VW Golf MK7   \n",
       "21  201819       38000       28000.0                 2012            Audi Q3   \n",
       "22  201819       10521       13800.0                 2017            Mazda 2   \n",
       "23  201819        9430       10500.0                 2016        Hyundai i10   \n",
       "24  201819      120000        8000.0                 2006       Honda Accord   \n",
       "\n",
       "                   Extra  \n",
       "0       1.2, Petrol, 5DR  \n",
       "1      1.48, Petrol, 5DR  \n",
       "2       1.3, Petrol, 5DR  \n",
       "3       2.0, Diesel, 5DR  \n",
       "4       2.0, Diesel, 5DR  \n",
       "5          1.2, LPG, 5DR  \n",
       "6       1.5, Diesel, 5DR  \n",
       "7         1.9 Petrol 5DR  \n",
       "8       1.6, Petrol, 5DR  \n",
       "9       1.4, Petrol, 3DR  \n",
       "10      1.2, Petrol, 5DR  \n",
       "11      2.2, Diesel, 5DR  \n",
       "12      2.0, Diesel, 5DR  \n",
       "13      1.5, Petrol, 5DR  \n",
       "14      1.5, Diesel, 3DR  \n",
       "15        1, Petrol, 5DR  \n",
       "16      1.2, Petrol, 5DR  \n",
       "17      1.2, Petrol, 5DR  \n",
       "18      1.0, Petrol, 5DR  \n",
       "19  1.6, Flex, Automatic  \n",
       "20      1.6, Diesel, 5DR  \n",
       "21      2.0, Diesel, 5DR  \n",
       "22      1.5, Petrol, 5DR  \n",
       "23       1.0 Petrol, 5DR  \n",
       "24      2.2, Diesel, dDR  "
      ]
     },
     "execution_count": 3,
     "metadata": {},
     "output_type": "execute_result"
    }
   ],
   "source": [
    "car_data_csv = pd.read_csv('car_data.csv')\n",
    "car_data_csv\n"
   ]
  },
  {
   "cell_type": "code",
   "execution_count": 4,
   "metadata": {},
   "outputs": [],
   "source": [
    "x = car_data_csv.loc[:, (\"Kilometres\")]\n",
    "y = car_data_csv.loc[:, (\"Market Value\")]"
   ]
  },
  {
   "cell_type": "markdown",
   "metadata": {},
   "source": [
    "## Gradient"
   ]
  },
  {
   "cell_type": "code",
   "execution_count": 5,
   "metadata": {},
   "outputs": [
    {
     "data": {
      "image/png": "[encoded data removed]",
      "text/plain": [
       "<IPython.core.display.Image object>"
      ]
     },
     "execution_count": 5,
     "metadata": {},
     "output_type": "execute_result"
    }
   ],
   "source": [
    "Image(filename='equation_gradient.png')"
   ]
  },
  {
   "cell_type": "markdown",
   "metadata": {},
   "source": [
    "## Intercept"
   ]
  },
  {
   "cell_type": "code",
   "execution_count": 6,
   "metadata": {},
   "outputs": [
    {
     "data": {
      "image/png": "[encoded data removed]",
      "text/plain": [
       "<IPython.core.display.Image object>"
      ]
     },
     "execution_count": 6,
     "metadata": {},
     "output_type": "execute_result"
    }
   ],
   "source": [
    "Image(filename='equation_intercept.png')"
   ]
  },
  {
   "cell_type": "code",
   "execution_count": 7,
   "metadata": {},
   "outputs": [],
   "source": [
    "def mb(x,y):\n",
    "    n = len(x)\n",
    "    sum_xy = 0;\n",
    "    for i in range(n):\n",
    "        sum_xy = sum_xy + (x[i] * y[i]);\n",
    "    sum_x2 = sum(i*i for i in x);\n",
    "    \n",
    "    numerator = (n * sum_xy) - (sum(x) * sum(y));\n",
    "    denominator = (n * sum_x2) - (sum(x)**(2));\n",
    "    m = numerator / denominator;\n",
    "    print(\"m: {}\".format(m))\n",
    "    \n",
    "    numerator = (sum(y) * sum_x2) - (sum_xy * sum(x))\n",
    "    denominator = (n * sum_x2) - sum(x)**(2)\n",
    "    b = numerator / denominator;\n",
    "    print(\"b: {}\".format(b))\n",
    "    \n",
    "    return m,b"
   ]
  },
  {
   "cell_type": "markdown",
   "metadata": {},
   "source": [
    "# Segmented"
   ]
  },
  {
   "cell_type": "code",
   "execution_count": 8,
   "metadata": {},
   "outputs": [
    {
     "name": "stdout",
     "output_type": "stream",
     "text": [
      "m: -0.07397015889717551\n",
      "b: 13545.154766150219\n",
      "m: -0.06619480020602558\n",
      "b: 16035.90201416078\n"
     ]
    }
   ],
   "source": [
    "segment_threshold = 100000\n",
    "\n",
    "nx = np.array(x)\n",
    "ny = np.array(y)\n",
    "\n",
    "arr = np.column_stack((nx,ny));\n",
    "\n",
    "arr_lower = [i for i in arr if i[0] < segment_threshold ]\n",
    "arr_upper = [i for i in arr if i[0] >= segment_threshold ]\n",
    "\n",
    "arr_lower_x = [i[0] for i in arr_lower]\n",
    "arr_lower_y = [i[1] for i in arr_lower]\n",
    "arr_upper_x = [i[0] for i in arr_upper]\n",
    "arr_upper_y = [i[1] for i in arr_upper]\n",
    "\n",
    "m_lower,b_lower = mb(arr_lower_x, arr_lower_y)\n",
    "m_upper,b_upper = mb(arr_upper_x, arr_upper_y)"
   ]
  },
  {
   "cell_type": "markdown",
   "metadata": {},
   "source": [
    "#### Best fit line dimensions"
   ]
  },
  {
   "cell_type": "code",
   "execution_count": 9,
   "metadata": {},
   "outputs": [],
   "source": [
    "#segment1\n",
    "sx1 = 0; sy1 = b_lower;\n",
    "sx2 = segment_threshold; sy2 = m_lower * sx2 + b_lower;\n",
    "\n",
    "#segment2\n",
    "sx3 = segment_threshold; sy3 = m_upper * sx3 + b_upper;\n",
    "sx4 = 250000; sy4 = m_upper * sx4 + b_upper;"
   ]
  },
  {
   "cell_type": "markdown",
   "metadata": {},
   "source": [
    "#### Plot"
   ]
  },
  {
   "cell_type": "code",
   "execution_count": 10,
   "metadata": {},
   "outputs": [
    {
     "data": {
      "text/plain": [
       "<matplotlib.legend.Legend at 0x7f1d11027160>"
      ]
     },
     "execution_count": 10,
     "metadata": {},
     "output_type": "execute_result"
    },
    {
     "data": {
      "image/png": "[encoded data removed]",
      "text/plain": [
       "<Figure size 720x720 with 1 Axes>"
      ]
     },
     "metadata": {
      "needs_background": "light"
     },
     "output_type": "display_data"
    }
   ],
   "source": [
    "fig = plt.figure(figsize=(10, 10))\n",
    "plt.plot(x, y, 'ro', label='Data')\n",
    "plt.plot([sx1,sx2],[sy1,sy2],'b', label='Segment 1')\n",
    "plt.plot([sx3,sx4],[sy3,sy4],'b', label='Segment 2')\n",
    "plt.plot([segment_threshold,segment_threshold],[0,25000],'c--', label='Threshold')\n",
    "plt.legend(loc=3)"
   ]
  },
  {
   "cell_type": "markdown",
   "metadata": {},
   "source": [
    "## Pearsons Correlation Coefficient:"
   ]
  },
  {
   "cell_type": "code",
   "execution_count": 11,
   "metadata": {},
   "outputs": [
    {
     "name": "stdout",
     "output_type": "stream",
     "text": [
      "-0.28911190642135\n",
      "-0.7270017104812018\n"
     ]
    }
   ],
   "source": [
    "seg1_coeff = np.corrcoef(arr_lower_x, arr_lower_y)[0, 1]\n",
    "seg2_coeff = np.corrcoef(arr_upper_x, arr_upper_y)[0, 1]\n",
    "print(seg1_coeff)\n",
    "print(seg2_coeff)"
   ]
  },
  {
   "cell_type": "markdown",
   "metadata": {},
   "source": [
    "# Testing Data"
   ]
  },
  {
   "cell_type": "code",
   "execution_count": 12,
   "metadata": {},
   "outputs": [
    {
     "data": {
      "text/html": [
       "<div>\n",
       "<style scoped>\n",
       "    .dataframe tbody tr th:only-of-type {\n",
       "        vertical-align: middle;\n",
       "    }\n",
       "\n",
       "    .dataframe tbody tr th {\n",
       "        vertical-align: top;\n",
       "    }\n",
       "\n",
       "    .dataframe thead th {\n",
       "        text-align: right;\n",
       "    }\n",
       "</style>\n",
       "<table border=\"1\" class=\"dataframe\">\n",
       "  <thead>\n",
       "    <tr style=\"text-align: right;\">\n",
       "      <th></th>\n",
       "      <th>Kilometers</th>\n",
       "      <th>Price</th>\n",
       "    </tr>\n",
       "  </thead>\n",
       "  <tbody>\n",
       "    <tr>\n",
       "      <th>0</th>\n",
       "      <td>14822</td>\n",
       "      <td>16830</td>\n",
       "    </tr>\n",
       "    <tr>\n",
       "      <th>1</th>\n",
       "      <td>31286</td>\n",
       "      <td>12600</td>\n",
       "    </tr>\n",
       "    <tr>\n",
       "      <th>2</th>\n",
       "      <td>42533</td>\n",
       "      <td>6570</td>\n",
       "    </tr>\n",
       "    <tr>\n",
       "      <th>3</th>\n",
       "      <td>45312</td>\n",
       "      <td>6030</td>\n",
       "    </tr>\n",
       "    <tr>\n",
       "      <th>4</th>\n",
       "      <td>46863</td>\n",
       "      <td>9630</td>\n",
       "    </tr>\n",
       "    <tr>\n",
       "      <th>5</th>\n",
       "      <td>57000</td>\n",
       "      <td>5490</td>\n",
       "    </tr>\n",
       "    <tr>\n",
       "      <th>6</th>\n",
       "      <td>60000</td>\n",
       "      <td>6930</td>\n",
       "    </tr>\n",
       "    <tr>\n",
       "      <th>7</th>\n",
       "      <td>71010</td>\n",
       "      <td>5220</td>\n",
       "    </tr>\n",
       "    <tr>\n",
       "      <th>8</th>\n",
       "      <td>84000</td>\n",
       "      <td>7200</td>\n",
       "    </tr>\n",
       "    <tr>\n",
       "      <th>9</th>\n",
       "      <td>85697</td>\n",
       "      <td>2700</td>\n",
       "    </tr>\n",
       "    <tr>\n",
       "      <th>10</th>\n",
       "      <td>97000</td>\n",
       "      <td>3600</td>\n",
       "    </tr>\n",
       "    <tr>\n",
       "      <th>11</th>\n",
       "      <td>118000</td>\n",
       "      <td>1350</td>\n",
       "    </tr>\n",
       "    <tr>\n",
       "      <th>12</th>\n",
       "      <td>118895</td>\n",
       "      <td>3690</td>\n",
       "    </tr>\n",
       "    <tr>\n",
       "      <th>13</th>\n",
       "      <td>142278</td>\n",
       "      <td>1080</td>\n",
       "    </tr>\n",
       "    <tr>\n",
       "      <th>14</th>\n",
       "      <td>178000</td>\n",
       "      <td>5400</td>\n",
       "    </tr>\n",
       "    <tr>\n",
       "      <th>15</th>\n",
       "      <td>199312</td>\n",
       "      <td>810</td>\n",
       "    </tr>\n",
       "    <tr>\n",
       "      <th>16</th>\n",
       "      <td>138000</td>\n",
       "      <td>2700</td>\n",
       "    </tr>\n",
       "    <tr>\n",
       "      <th>17</th>\n",
       "      <td>110000</td>\n",
       "      <td>5400</td>\n",
       "    </tr>\n",
       "    <tr>\n",
       "      <th>18</th>\n",
       "      <td>45000</td>\n",
       "      <td>2880</td>\n",
       "    </tr>\n",
       "    <tr>\n",
       "      <th>19</th>\n",
       "      <td>42000</td>\n",
       "      <td>7380</td>\n",
       "    </tr>\n",
       "  </tbody>\n",
       "</table>\n",
       "</div>"
      ],
      "text/plain": [
       "    Kilometers  Price\n",
       "0        14822  16830\n",
       "1        31286  12600\n",
       "2        42533   6570\n",
       "3        45312   6030\n",
       "4        46863   9630\n",
       "5        57000   5490\n",
       "6        60000   6930\n",
       "7        71010   5220\n",
       "8        84000   7200\n",
       "9        85697   2700\n",
       "10       97000   3600\n",
       "11      118000   1350\n",
       "12      118895   3690\n",
       "13      142278   1080\n",
       "14      178000   5400\n",
       "15      199312    810\n",
       "16      138000   2700\n",
       "17      110000   5400\n",
       "18       45000   2880\n",
       "19       42000   7380"
      ]
     },
     "execution_count": 12,
     "metadata": {},
     "output_type": "execute_result"
    }
   ],
   "source": [
    "car_test_data_csv = pd.read_csv('car_test_data.csv')\n",
    "\n",
    "test_x = car_test_data_csv.loc[:, (\"Kilometers\")]\n",
    "test_y = car_test_data_csv.loc[:, (\"Price\")]\n",
    "\n",
    "car_test_data_csv"
   ]
  },
  {
   "cell_type": "code",
   "execution_count": 13,
   "metadata": {},
   "outputs": [
    {
     "name": "stdout",
     "output_type": "stream",
     "text": [
      "Km: 14822; \tPredicted price: 12448.769070976283; \tActual price: 16830\n",
      "Km: 31286; \tPredicted price: 11230.924374893186; \tActual price: 12600\n",
      "Km: 42533; \tPredicted price: 10398.981997776653; \tActual price: 6570\n",
      "Km: 45312; \tPredicted price: 10193.418926201402; \tActual price: 6030\n",
      "Km: 46863; \tPredicted price: 10078.691209751883; \tActual price: 9630\n",
      "Km: 57000; \tPredicted price: 9328.855709011215; \tActual price: 5490\n",
      "Km: 60000; \tPredicted price: 9106.94523231969; \tActual price: 6930\n",
      "Km: 71010; \tPredicted price: 8292.533782861785; \tActual price: 5220\n",
      "Km: 84000; \tPredicted price: 7331.661418787477; \tActual price: 7200\n",
      "Km: 85697; \tPredicted price: 7206.13405913897; \tActual price: 2700\n",
      "Km: 97000; \tPredicted price: 6370.049353124195; \tActual price: 3600\n",
      "Km: 118000; \tPredicted price: 8224.915589849761; \tActual price: 1350\n",
      "Km: 118895; \tPredicted price: 8165.671243665368; \tActual price: 3690\n",
      "Km: 142278; \tPredicted price: 6617.838230447871; \tActual price: 1080\n",
      "Km: 178000; \tPredicted price: 4253.2275774882255; \tActual price: 5400\n",
      "Km: 199312; \tPredicted price: 2842.4839954974086; \tActual price: 810\n",
      "Km: 138000; \tPredicted price: 6901.019585729249; \tActual price: 2700\n",
      "Km: 110000; \tPredicted price: 8754.473991497965; \tActual price: 5400\n",
      "Km: 45000; \tPredicted price: 10216.497615777322; \tActual price: 2880\n",
      "Km: 42000; \tPredicted price: 10438.408092468848; \tActual price: 7380\n",
      "\n",
      "MSE: 15283355.15059064\n"
     ]
    }
   ],
   "source": [
    "count = 0;\n",
    "square_errors = []\n",
    "for t in test_x:\n",
    "    if t < segment_threshold:\n",
    "        result = m_lower*t + b_lower\n",
    "    else:\n",
    "        result = m_upper*t + b_upper\n",
    "    \n",
    "    expected = test_y[count];\n",
    "    square_errors.append((result - expected)**(2))\n",
    "    print(\"Km: {}; \\tPredicted price: {}; \\tActual price: {}\".format(t,result,expected))\n",
    "    count += 1\n",
    "    \n",
    "mse = sum(square_errors) / len(square_errors);\n",
    "print(\"\\nMSE: {}\".format(mse));"
   ]
  },
  {
   "cell_type": "code",
   "execution_count": null,
   "metadata": {},
   "outputs": [],
   "source": []
  }
 ],
 "metadata": {
  "kernelspec": {
   "display_name": "Python 3",
   "language": "python",
   "name": "python3"
  },
  "language_info": {
   "codemirror_mode": {
    "name": "ipython",
    "version": 3
   },
   "file_extension": ".py",
   "mimetype": "text/x-python",
   "name": "python",
   "nbconvert_exporter": "python",
   "pygments_lexer": "ipython3",
   "version": "3.7.0"
  }
 },
 "nbformat": 4,
 "nbformat_minor": 2
}
